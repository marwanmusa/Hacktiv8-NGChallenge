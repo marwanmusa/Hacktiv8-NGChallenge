{
 "cells": [
  {
   "cell_type": "markdown",
   "metadata": {},
   "source": [
    "# Non Graded Challenge 2 - Function\n",
    "\n",
    "- Buatlah sebuah function yang dapat mengkonversi suhu dari kelvin ke celcius, dan celcius ke kelvin.\n",
    "- Buatlah sebuah function yang dapat mengkonversi suhu ke fahrenheit. Tambahkan parameter untuk memastikan bahwa argumen yang dimasukan adalah celcius atau kelvin. Panggil function yang pertama jika diperlukan.\n",
    "- Buatlah sebuah function yang dapat mengkonversi suhu dari fahrenheit. Berikan argumen untuk memastikan bahwa outputnya dalah celcius atau kelvin.\n",
    "- Berikan dokumentasi pada setiap baris kode yang kalian tulis."
   ]
  },
  {
   "cell_type": "markdown",
   "metadata": {},
   "source": [
    "### **Function** yang dapat mengkonversi suhu dari *kelvin* ke *celcius*"
   ]
  },
  {
   "cell_type": "code",
   "execution_count": null,
   "metadata": {},
   "outputs": [],
   "source": [
    "kelv = int(input(\"Enter a kelvin degree between 273° and 373°:\"))            #entering kelvin degree\n",
    "\n",
    "def kelvtocels_converter(kelv):                                              #converter function\n",
    "    if 273 <= kelv <= 373:                                                   #conditioning kelv temp must be in range:\n",
    "        celsius = kelv - 273                                                 #kelv to cels formula\n",
    "        print(f'{kelv}° Kelvin = {celsius}° Celsius')                        #print the result\n",
    "        \n",
    "    else:                                                                    #else statement if the degrees out of ranges\n",
    "        print('out of degrees range :\\nKelvin scale is marked from 273° to 373° \\nwhere 273° K shows the freezing point of water \\nand 373° K shows the boiling point of water')\n",
    "\n",
    "kelvtocels_converter(kelv)                                                   #calling the converter function       "
   ]
  },
  {
   "cell_type": "markdown",
   "metadata": {},
   "source": [
    "### **Function** yang dapat mengkonversi suhu dari *celcius* ke *kelvin*"
   ]
  },
  {
   "cell_type": "code",
   "execution_count": null,
   "metadata": {},
   "outputs": [],
   "source": [
    "cels = int(input(\"Enter a celsius degree between 0° and 100°:\"))             #entering celsius degree\n",
    "\n",
    "def celstokelv_converter(cels):                                             #converter function\n",
    "    if 0 <= cels <= 100:                                                    #conditioning cels temp must be in range:\n",
    "        kelvin = cels + 273                                                 #cels to kelv formula\n",
    "        print(f'{cels}° Celsius = {kelvin}° Kelvin')                        #print the result\n",
    "        \n",
    "    else:                                                                   #else statement if the degrees out of ranges\n",
    "        print('out of degrees range :\\nCelsius scale is marked from 0° to 100° \\nwhere 0° C shows the freezing point of water \\nand 100° C shows the boiling point of water')\n",
    "\n",
    "celstokelv_converter(cels)                                                  #calling the converter function      "
   ]
  },
  {
   "cell_type": "markdown",
   "metadata": {},
   "source": [
    "### **Function** yang dapat mengkonversi suhu ke *Fahrenheit*"
   ]
  },
  {
   "cell_type": "code",
   "execution_count": null,
   "metadata": {},
   "outputs": [],
   "source": [
    "kelv = int(input(\"Enter a kelvin degree between 273° and 373°:\"))           #entering kelvin degree\n",
    "cels = int(input(\"Enter a celsius degree between 0° and 100°:\"))            #entering celsius degree\n",
    "\n",
    "def fahr_converter(kelv,cels):                                              #converter function\n",
    "    if 273 <= kelv <= 373 and 0 <= cels <= 100:                             #conditioning kelv and cels must be in range\n",
    "        fahrkelv = ((9/5)*(kelv-273))+32                                    #kelv to fahr formula\n",
    "        fahrcels = ((9/5)*cels)+32                                          #cels to fahr formula\n",
    "        print(f'{kelv}° Kelvin = {fahrkelv}° Fahrenheit\\n{cels}° Celsius = {fahrcels}° Fahrenheit')     #print the result\n",
    "        \n",
    "    else:                                                                   #else statement if the degrees out of ranges\n",
    "        print('out of degrees range :\\nKelvin and Celsius scale is marked from 273° to 373° and 0° to 100° \\nwhere 273° K, 0° C shows the freezing point of water \\nand 373° K, 100° C shows the boiling point of water')\n",
    "        \n",
    "fahr_converter(kelv,cels)                                                   #calling the converter function"
   ]
  },
  {
   "cell_type": "markdown",
   "metadata": {},
   "source": [
    "### **Function** yang dapat mengkonversi suhu dari *Fahrenheit*"
   ]
  },
  {
   "cell_type": "code",
   "execution_count": null,
   "metadata": {},
   "outputs": [],
   "source": [
    "fahrx = int(input(\"Enter a fahrenheit degree between 32° and 212°:\"))       #entering a fahrenheit degree\n",
    "\n",
    "def tofahr_converter(fahrx):                                                #converter function\n",
    "    if 32 <= fahrx <= 212:                                                  #conditioning the degree must be in range\n",
    "        kelvfahr = ((5/9)*(fahrx-32))+273                                   #fahr to kelv formula\n",
    "        celsfahr = ((5/9)*(fahrx-32))                                       #fahr to cels formula\n",
    "        print(f'{fahrx}° Fahrenheit = {kelvfahr}° Kelvin\\n{fahrx}° Fahrenheit = {celsfahr}° Celsius')     #print the result\n",
    "    \n",
    "    else:                                                                   #else statement if the degrees out of ranges\n",
    "        print('out of degrees range :\\nthe Fahrenheit scale is marked from 32° to 212° where 32° F shows the freezing point of water and 212° F shows the boiling point of water')\n",
    "        \n",
    "tofahr_converter(fahrx)                                                     #calling the converter function"
   ]
  }
 ],
 "metadata": {
  "interpreter": {
   "hash": "213524bb45a1aeaf737b1d8c77d7b8db5d425938d9dffc5f4bc6fe6dd3324700"
  },
  "kernelspec": {
   "display_name": "Python 3.10.2 64-bit",
   "language": "python",
   "name": "python3"
  },
  "language_info": {
   "codemirror_mode": {
    "name": "ipython",
    "version": 3
   },
   "file_extension": ".py",
   "mimetype": "text/x-python",
   "name": "python",
   "nbconvert_exporter": "python",
   "pygments_lexer": "ipython3",
   "version": "3.10.2"
  },
  "orig_nbformat": 4
 },
 "nbformat": 4,
 "nbformat_minor": 2
}
