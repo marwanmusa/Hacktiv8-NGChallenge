{
 "cells": [
  {
   "cell_type": "markdown",
   "metadata": {},
   "source": [
    "# Non Graded Challenge 11 - Descriptive Statistics"
   ]
  },
  {
   "cell_type": "code",
   "execution_count": 180,
   "metadata": {},
   "outputs": [],
   "source": [
    "import pandas as pd\n",
    "from scipy import stats\n",
    "from matplotlib import pyplot as plt"
   ]
  },
  {
   "cell_type": "code",
   "execution_count": 181,
   "metadata": {},
   "outputs": [],
   "source": [
    "df = pd.read_csv('covid_19_indonesia_time_series_all.csv')"
   ]
  },
  {
   "cell_type": "code",
   "execution_count": 182,
   "metadata": {},
   "outputs": [
    {
     "data": {
      "text/html": [
       "<div>\n",
       "<style scoped>\n",
       "    .dataframe tbody tr th:only-of-type {\n",
       "        vertical-align: middle;\n",
       "    }\n",
       "\n",
       "    .dataframe tbody tr th {\n",
       "        vertical-align: top;\n",
       "    }\n",
       "\n",
       "    .dataframe thead th {\n",
       "        text-align: right;\n",
       "    }\n",
       "</style>\n",
       "<table border=\"1\" class=\"dataframe\">\n",
       "  <thead>\n",
       "    <tr style=\"text-align: right;\">\n",
       "      <th></th>\n",
       "      <th>Date</th>\n",
       "      <th>Location ISO Code</th>\n",
       "      <th>Location</th>\n",
       "      <th>New Cases</th>\n",
       "      <th>New Deaths</th>\n",
       "      <th>New Recovered</th>\n",
       "      <th>New Active Cases</th>\n",
       "      <th>Total Cases</th>\n",
       "      <th>Total Deaths</th>\n",
       "      <th>Total Recovered</th>\n",
       "      <th>...</th>\n",
       "      <th>Latitude</th>\n",
       "      <th>New Cases per Million</th>\n",
       "      <th>Total Cases per Million</th>\n",
       "      <th>New Deaths per Million</th>\n",
       "      <th>Total Deaths per Million</th>\n",
       "      <th>Total Deaths per 100rb</th>\n",
       "      <th>Case Fatality Rate</th>\n",
       "      <th>Case Recovered Rate</th>\n",
       "      <th>Growth Factor of New Cases</th>\n",
       "      <th>Growth Factor of New Deaths</th>\n",
       "    </tr>\n",
       "  </thead>\n",
       "  <tbody>\n",
       "    <tr>\n",
       "      <th>0</th>\n",
       "      <td>3/1/2020</td>\n",
       "      <td>ID-JK</td>\n",
       "      <td>DKI Jakarta</td>\n",
       "      <td>2</td>\n",
       "      <td>0</td>\n",
       "      <td>0</td>\n",
       "      <td>2</td>\n",
       "      <td>39</td>\n",
       "      <td>20</td>\n",
       "      <td>41</td>\n",
       "      <td>...</td>\n",
       "      <td>-6.204699</td>\n",
       "      <td>0.18</td>\n",
       "      <td>3.60</td>\n",
       "      <td>0.00</td>\n",
       "      <td>1.84</td>\n",
       "      <td>0.18</td>\n",
       "      <td>51.28%</td>\n",
       "      <td>105.13%</td>\n",
       "      <td>NaN</td>\n",
       "      <td>NaN</td>\n",
       "    </tr>\n",
       "    <tr>\n",
       "      <th>1</th>\n",
       "      <td>3/2/2020</td>\n",
       "      <td>ID-JK</td>\n",
       "      <td>DKI Jakarta</td>\n",
       "      <td>2</td>\n",
       "      <td>0</td>\n",
       "      <td>0</td>\n",
       "      <td>2</td>\n",
       "      <td>41</td>\n",
       "      <td>20</td>\n",
       "      <td>41</td>\n",
       "      <td>...</td>\n",
       "      <td>-6.204699</td>\n",
       "      <td>0.18</td>\n",
       "      <td>3.78</td>\n",
       "      <td>0.00</td>\n",
       "      <td>1.84</td>\n",
       "      <td>0.18</td>\n",
       "      <td>48.78%</td>\n",
       "      <td>100.00%</td>\n",
       "      <td>1.00</td>\n",
       "      <td>1.0</td>\n",
       "    </tr>\n",
       "    <tr>\n",
       "      <th>2</th>\n",
       "      <td>3/2/2020</td>\n",
       "      <td>IDN</td>\n",
       "      <td>Indonesia</td>\n",
       "      <td>2</td>\n",
       "      <td>0</td>\n",
       "      <td>0</td>\n",
       "      <td>2</td>\n",
       "      <td>2</td>\n",
       "      <td>0</td>\n",
       "      <td>0</td>\n",
       "      <td>...</td>\n",
       "      <td>-0.789275</td>\n",
       "      <td>0.01</td>\n",
       "      <td>0.01</td>\n",
       "      <td>0.00</td>\n",
       "      <td>0.00</td>\n",
       "      <td>0.00</td>\n",
       "      <td>0.00%</td>\n",
       "      <td>0.00%</td>\n",
       "      <td>NaN</td>\n",
       "      <td>NaN</td>\n",
       "    </tr>\n",
       "    <tr>\n",
       "      <th>3</th>\n",
       "      <td>3/2/2020</td>\n",
       "      <td>ID-RI</td>\n",
       "      <td>Riau</td>\n",
       "      <td>1</td>\n",
       "      <td>0</td>\n",
       "      <td>0</td>\n",
       "      <td>1</td>\n",
       "      <td>2</td>\n",
       "      <td>0</td>\n",
       "      <td>3</td>\n",
       "      <td>...</td>\n",
       "      <td>0.511648</td>\n",
       "      <td>0.16</td>\n",
       "      <td>0.33</td>\n",
       "      <td>0.00</td>\n",
       "      <td>0.00</td>\n",
       "      <td>0.00</td>\n",
       "      <td>0.00%</td>\n",
       "      <td>150.00%</td>\n",
       "      <td>NaN</td>\n",
       "      <td>NaN</td>\n",
       "    </tr>\n",
       "    <tr>\n",
       "      <th>4</th>\n",
       "      <td>3/3/2020</td>\n",
       "      <td>ID-JK</td>\n",
       "      <td>DKI Jakarta</td>\n",
       "      <td>2</td>\n",
       "      <td>0</td>\n",
       "      <td>0</td>\n",
       "      <td>2</td>\n",
       "      <td>43</td>\n",
       "      <td>20</td>\n",
       "      <td>41</td>\n",
       "      <td>...</td>\n",
       "      <td>-6.204699</td>\n",
       "      <td>0.18</td>\n",
       "      <td>3.96</td>\n",
       "      <td>0.00</td>\n",
       "      <td>1.84</td>\n",
       "      <td>0.18</td>\n",
       "      <td>46.51%</td>\n",
       "      <td>95.35%</td>\n",
       "      <td>1.00</td>\n",
       "      <td>1.0</td>\n",
       "    </tr>\n",
       "    <tr>\n",
       "      <th>...</th>\n",
       "      <td>...</td>\n",
       "      <td>...</td>\n",
       "      <td>...</td>\n",
       "      <td>...</td>\n",
       "      <td>...</td>\n",
       "      <td>...</td>\n",
       "      <td>...</td>\n",
       "      <td>...</td>\n",
       "      <td>...</td>\n",
       "      <td>...</td>\n",
       "      <td>...</td>\n",
       "      <td>...</td>\n",
       "      <td>...</td>\n",
       "      <td>...</td>\n",
       "      <td>...</td>\n",
       "      <td>...</td>\n",
       "      <td>...</td>\n",
       "      <td>...</td>\n",
       "      <td>...</td>\n",
       "      <td>...</td>\n",
       "      <td>...</td>\n",
       "    </tr>\n",
       "    <tr>\n",
       "      <th>21754</th>\n",
       "      <td>12/2/2021</td>\n",
       "      <td>ID-SA</td>\n",
       "      <td>Sulawesi Utara</td>\n",
       "      <td>2</td>\n",
       "      <td>0</td>\n",
       "      <td>0</td>\n",
       "      <td>2</td>\n",
       "      <td>34715</td>\n",
       "      <td>1056</td>\n",
       "      <td>33566</td>\n",
       "      <td>...</td>\n",
       "      <td>1.259638</td>\n",
       "      <td>0.76</td>\n",
       "      <td>13140.24</td>\n",
       "      <td>0.00</td>\n",
       "      <td>399.71</td>\n",
       "      <td>39.97</td>\n",
       "      <td>3.04%</td>\n",
       "      <td>96.69%</td>\n",
       "      <td>NaN</td>\n",
       "      <td>1.0</td>\n",
       "    </tr>\n",
       "    <tr>\n",
       "      <th>21755</th>\n",
       "      <td>12/2/2021</td>\n",
       "      <td>ID-SB</td>\n",
       "      <td>Sumatera Barat</td>\n",
       "      <td>4</td>\n",
       "      <td>0</td>\n",
       "      <td>0</td>\n",
       "      <td>4</td>\n",
       "      <td>89849</td>\n",
       "      <td>2152</td>\n",
       "      <td>87605</td>\n",
       "      <td>...</td>\n",
       "      <td>-0.850253</td>\n",
       "      <td>0.72</td>\n",
       "      <td>16279.22</td>\n",
       "      <td>0.00</td>\n",
       "      <td>389.91</td>\n",
       "      <td>38.99</td>\n",
       "      <td>2.40%</td>\n",
       "      <td>97.50%</td>\n",
       "      <td>4.00</td>\n",
       "      <td>1.0</td>\n",
       "    </tr>\n",
       "    <tr>\n",
       "      <th>21756</th>\n",
       "      <td>12/2/2021</td>\n",
       "      <td>ID-SS</td>\n",
       "      <td>Sumatera Selatan</td>\n",
       "      <td>4</td>\n",
       "      <td>0</td>\n",
       "      <td>0</td>\n",
       "      <td>4</td>\n",
       "      <td>59937</td>\n",
       "      <td>3071</td>\n",
       "      <td>56830</td>\n",
       "      <td>...</td>\n",
       "      <td>-3.216212</td>\n",
       "      <td>0.49</td>\n",
       "      <td>7293.78</td>\n",
       "      <td>0.00</td>\n",
       "      <td>373.71</td>\n",
       "      <td>37.37</td>\n",
       "      <td>5.12%</td>\n",
       "      <td>94.82%</td>\n",
       "      <td>4.00</td>\n",
       "      <td>1.0</td>\n",
       "    </tr>\n",
       "    <tr>\n",
       "      <th>21757</th>\n",
       "      <td>12/2/2021</td>\n",
       "      <td>ID-SU</td>\n",
       "      <td>Sumatera Utara</td>\n",
       "      <td>4</td>\n",
       "      <td>0</td>\n",
       "      <td>1</td>\n",
       "      <td>3</td>\n",
       "      <td>106045</td>\n",
       "      <td>2889</td>\n",
       "      <td>103061</td>\n",
       "      <td>...</td>\n",
       "      <td>2.191894</td>\n",
       "      <td>0.27</td>\n",
       "      <td>7129.13</td>\n",
       "      <td>0.00</td>\n",
       "      <td>194.22</td>\n",
       "      <td>19.42</td>\n",
       "      <td>2.72%</td>\n",
       "      <td>97.19%</td>\n",
       "      <td>1.00</td>\n",
       "      <td>1.0</td>\n",
       "    </tr>\n",
       "    <tr>\n",
       "      <th>21758</th>\n",
       "      <td>12/3/2021</td>\n",
       "      <td>IDN</td>\n",
       "      <td>Indonesia</td>\n",
       "      <td>245</td>\n",
       "      <td>8</td>\n",
       "      <td>328</td>\n",
       "      <td>-91</td>\n",
       "      <td>4257243</td>\n",
       "      <td>143858</td>\n",
       "      <td>4105680</td>\n",
       "      <td>...</td>\n",
       "      <td>-0.789275</td>\n",
       "      <td>0.92</td>\n",
       "      <td>16053.83</td>\n",
       "      <td>0.03</td>\n",
       "      <td>542.48</td>\n",
       "      <td>54.25</td>\n",
       "      <td>3.38%</td>\n",
       "      <td>96.44%</td>\n",
       "      <td>0.79</td>\n",
       "      <td>0.8</td>\n",
       "    </tr>\n",
       "  </tbody>\n",
       "</table>\n",
       "<p>21759 rows × 38 columns</p>\n",
       "</div>"
      ],
      "text/plain": [
       "            Date Location ISO Code          Location  New Cases  New Deaths  \\\n",
       "0       3/1/2020             ID-JK       DKI Jakarta          2           0   \n",
       "1       3/2/2020             ID-JK       DKI Jakarta          2           0   \n",
       "2       3/2/2020               IDN         Indonesia          2           0   \n",
       "3       3/2/2020             ID-RI              Riau          1           0   \n",
       "4       3/3/2020             ID-JK       DKI Jakarta          2           0   \n",
       "...          ...               ...               ...        ...         ...   \n",
       "21754  12/2/2021             ID-SA    Sulawesi Utara          2           0   \n",
       "21755  12/2/2021             ID-SB    Sumatera Barat          4           0   \n",
       "21756  12/2/2021             ID-SS  Sumatera Selatan          4           0   \n",
       "21757  12/2/2021             ID-SU    Sumatera Utara          4           0   \n",
       "21758  12/3/2021               IDN         Indonesia        245           8   \n",
       "\n",
       "       New Recovered  New Active Cases  Total Cases  Total Deaths  \\\n",
       "0                  0                 2           39            20   \n",
       "1                  0                 2           41            20   \n",
       "2                  0                 2            2             0   \n",
       "3                  0                 1            2             0   \n",
       "4                  0                 2           43            20   \n",
       "...              ...               ...          ...           ...   \n",
       "21754              0                 2        34715          1056   \n",
       "21755              0                 4        89849          2152   \n",
       "21756              0                 4        59937          3071   \n",
       "21757              1                 3       106045          2889   \n",
       "21758            328               -91      4257243        143858   \n",
       "\n",
       "       Total Recovered  ...  Latitude New Cases per Million  \\\n",
       "0                   41  ... -6.204699                  0.18   \n",
       "1                   41  ... -6.204699                  0.18   \n",
       "2                    0  ... -0.789275                  0.01   \n",
       "3                    3  ...  0.511648                  0.16   \n",
       "4                   41  ... -6.204699                  0.18   \n",
       "...                ...  ...       ...                   ...   \n",
       "21754            33566  ...  1.259638                  0.76   \n",
       "21755            87605  ... -0.850253                  0.72   \n",
       "21756            56830  ... -3.216212                  0.49   \n",
       "21757           103061  ...  2.191894                  0.27   \n",
       "21758          4105680  ... -0.789275                  0.92   \n",
       "\n",
       "       Total Cases per Million New Deaths per Million  \\\n",
       "0                         3.60                   0.00   \n",
       "1                         3.78                   0.00   \n",
       "2                         0.01                   0.00   \n",
       "3                         0.33                   0.00   \n",
       "4                         3.96                   0.00   \n",
       "...                        ...                    ...   \n",
       "21754                 13140.24                   0.00   \n",
       "21755                 16279.22                   0.00   \n",
       "21756                  7293.78                   0.00   \n",
       "21757                  7129.13                   0.00   \n",
       "21758                 16053.83                   0.03   \n",
       "\n",
       "      Total Deaths per Million Total Deaths per 100rb Case Fatality Rate  \\\n",
       "0                         1.84                   0.18             51.28%   \n",
       "1                         1.84                   0.18             48.78%   \n",
       "2                         0.00                   0.00              0.00%   \n",
       "3                         0.00                   0.00              0.00%   \n",
       "4                         1.84                   0.18             46.51%   \n",
       "...                        ...                    ...                ...   \n",
       "21754                   399.71                  39.97              3.04%   \n",
       "21755                   389.91                  38.99              2.40%   \n",
       "21756                   373.71                  37.37              5.12%   \n",
       "21757                   194.22                  19.42              2.72%   \n",
       "21758                   542.48                  54.25              3.38%   \n",
       "\n",
       "      Case Recovered Rate Growth Factor of New Cases  \\\n",
       "0                 105.13%                        NaN   \n",
       "1                 100.00%                       1.00   \n",
       "2                   0.00%                        NaN   \n",
       "3                 150.00%                        NaN   \n",
       "4                  95.35%                       1.00   \n",
       "...                   ...                        ...   \n",
       "21754              96.69%                        NaN   \n",
       "21755              97.50%                       4.00   \n",
       "21756              94.82%                       4.00   \n",
       "21757              97.19%                       1.00   \n",
       "21758              96.44%                       0.79   \n",
       "\n",
       "       Growth Factor of New Deaths  \n",
       "0                              NaN  \n",
       "1                              1.0  \n",
       "2                              NaN  \n",
       "3                              NaN  \n",
       "4                              1.0  \n",
       "...                            ...  \n",
       "21754                          1.0  \n",
       "21755                          1.0  \n",
       "21756                          1.0  \n",
       "21757                          1.0  \n",
       "21758                          0.8  \n",
       "\n",
       "[21759 rows x 38 columns]"
      ]
     },
     "execution_count": 182,
     "metadata": {},
     "output_type": "execute_result"
    }
   ],
   "source": [
    "df"
   ]
  },
  {
   "cell_type": "code",
   "execution_count": 183,
   "metadata": {},
   "outputs": [
    {
     "name": "stdout",
     "output_type": "stream",
     "text": [
      "<class 'pandas.core.frame.DataFrame'>\n",
      "RangeIndex: 21759 entries, 0 to 21758\n",
      "Data columns (total 38 columns):\n",
      " #   Column                       Non-Null Count  Dtype  \n",
      "---  ------                       --------------  -----  \n",
      " 0   Date                         21759 non-null  object \n",
      " 1   Location ISO Code            21759 non-null  object \n",
      " 2   Location                     21759 non-null  object \n",
      " 3   New Cases                    21759 non-null  int64  \n",
      " 4   New Deaths                   21759 non-null  int64  \n",
      " 5   New Recovered                21759 non-null  int64  \n",
      " 6   New Active Cases             21759 non-null  int64  \n",
      " 7   Total Cases                  21759 non-null  int64  \n",
      " 8   Total Deaths                 21759 non-null  int64  \n",
      " 9   Total Recovered              21759 non-null  int64  \n",
      " 10  Total Active Cases           21759 non-null  int64  \n",
      " 11  Location Level               21759 non-null  object \n",
      " 12  City or Regency              0 non-null      float64\n",
      " 13  Province                     21117 non-null  object \n",
      " 14  Country                      21759 non-null  object \n",
      " 15  Continent                    21759 non-null  object \n",
      " 16  Island                       21117 non-null  object \n",
      " 17  Time Zone                    21117 non-null  object \n",
      " 18  Special Status               3123 non-null   object \n",
      " 19  Total Regencies              21759 non-null  int64  \n",
      " 20  Total Cities                 21145 non-null  float64\n",
      " 21  Total Districts              21759 non-null  int64  \n",
      " 22  Total Urban Villages         21142 non-null  float64\n",
      " 23  Total Rural Villages         21117 non-null  float64\n",
      " 24  Area (km2)                   21759 non-null  int64  \n",
      " 25  Population                   21759 non-null  int64  \n",
      " 26  Population Density           21759 non-null  float64\n",
      " 27  Longitude                    21759 non-null  float64\n",
      " 28  Latitude                     21759 non-null  float64\n",
      " 29  New Cases per Million        21759 non-null  float64\n",
      " 30  Total Cases per Million      21759 non-null  float64\n",
      " 31  New Deaths per Million       21759 non-null  float64\n",
      " 32  Total Deaths per Million     21759 non-null  float64\n",
      " 33  Total Deaths per 100rb       21759 non-null  float64\n",
      " 34  Case Fatality Rate           21759 non-null  object \n",
      " 35  Case Recovered Rate          21759 non-null  object \n",
      " 36  Growth Factor of New Cases   20572 non-null  float64\n",
      " 37  Growth Factor of New Deaths  19292 non-null  float64\n",
      "dtypes: float64(14), int64(12), object(12)\n",
      "memory usage: 6.3+ MB\n"
     ]
    }
   ],
   "source": [
    "df.info()"
   ]
  },
  {
   "cell_type": "markdown",
   "metadata": {},
   "source": [
    "Before we start to measure *the central tendency and the variance* of the data, We will classify the data by its location level first."
   ]
  },
  {
   "cell_type": "code",
   "execution_count": 184,
   "metadata": {},
   "outputs": [
    {
     "data": {
      "text/html": [
       "<div>\n",
       "<style scoped>\n",
       "    .dataframe tbody tr th:only-of-type {\n",
       "        vertical-align: middle;\n",
       "    }\n",
       "\n",
       "    .dataframe tbody tr th {\n",
       "        vertical-align: top;\n",
       "    }\n",
       "\n",
       "    .dataframe thead th {\n",
       "        text-align: right;\n",
       "    }\n",
       "</style>\n",
       "<table border=\"1\" class=\"dataframe\">\n",
       "  <thead>\n",
       "    <tr style=\"text-align: right;\">\n",
       "      <th></th>\n",
       "      <th>Date</th>\n",
       "      <th>Location ISO Code</th>\n",
       "      <th>Location</th>\n",
       "      <th>New Cases</th>\n",
       "      <th>New Deaths</th>\n",
       "      <th>New Recovered</th>\n",
       "      <th>New Active Cases</th>\n",
       "      <th>Total Cases</th>\n",
       "      <th>Total Deaths</th>\n",
       "      <th>Total Recovered</th>\n",
       "      <th>...</th>\n",
       "      <th>Latitude</th>\n",
       "      <th>New Cases per Million</th>\n",
       "      <th>Total Cases per Million</th>\n",
       "      <th>New Deaths per Million</th>\n",
       "      <th>Total Deaths per Million</th>\n",
       "      <th>Total Deaths per 100rb</th>\n",
       "      <th>Case Fatality Rate</th>\n",
       "      <th>Case Recovered Rate</th>\n",
       "      <th>Growth Factor of New Cases</th>\n",
       "      <th>Growth Factor of New Deaths</th>\n",
       "    </tr>\n",
       "  </thead>\n",
       "  <tbody>\n",
       "    <tr>\n",
       "      <th>2</th>\n",
       "      <td>3/2/2020</td>\n",
       "      <td>IDN</td>\n",
       "      <td>Indonesia</td>\n",
       "      <td>2</td>\n",
       "      <td>0</td>\n",
       "      <td>0</td>\n",
       "      <td>2</td>\n",
       "      <td>2</td>\n",
       "      <td>0</td>\n",
       "      <td>0</td>\n",
       "      <td>...</td>\n",
       "      <td>-0.789275</td>\n",
       "      <td>0.01</td>\n",
       "      <td>0.01</td>\n",
       "      <td>0.00</td>\n",
       "      <td>0.00</td>\n",
       "      <td>0.00</td>\n",
       "      <td>0.00%</td>\n",
       "      <td>0.00%</td>\n",
       "      <td>NaN</td>\n",
       "      <td>NaN</td>\n",
       "    </tr>\n",
       "    <tr>\n",
       "      <th>5</th>\n",
       "      <td>3/3/2020</td>\n",
       "      <td>IDN</td>\n",
       "      <td>Indonesia</td>\n",
       "      <td>0</td>\n",
       "      <td>0</td>\n",
       "      <td>0</td>\n",
       "      <td>0</td>\n",
       "      <td>2</td>\n",
       "      <td>0</td>\n",
       "      <td>0</td>\n",
       "      <td>...</td>\n",
       "      <td>-0.789275</td>\n",
       "      <td>0.00</td>\n",
       "      <td>0.01</td>\n",
       "      <td>0.00</td>\n",
       "      <td>0.00</td>\n",
       "      <td>0.00</td>\n",
       "      <td>0.00%</td>\n",
       "      <td>0.00%</td>\n",
       "      <td>0.00</td>\n",
       "      <td>1.00</td>\n",
       "    </tr>\n",
       "    <tr>\n",
       "      <th>9</th>\n",
       "      <td>3/4/2020</td>\n",
       "      <td>IDN</td>\n",
       "      <td>Indonesia</td>\n",
       "      <td>0</td>\n",
       "      <td>0</td>\n",
       "      <td>0</td>\n",
       "      <td>0</td>\n",
       "      <td>2</td>\n",
       "      <td>0</td>\n",
       "      <td>0</td>\n",
       "      <td>...</td>\n",
       "      <td>-0.789275</td>\n",
       "      <td>0.00</td>\n",
       "      <td>0.01</td>\n",
       "      <td>0.00</td>\n",
       "      <td>0.00</td>\n",
       "      <td>0.00</td>\n",
       "      <td>0.00%</td>\n",
       "      <td>0.00%</td>\n",
       "      <td>1.00</td>\n",
       "      <td>1.00</td>\n",
       "    </tr>\n",
       "    <tr>\n",
       "      <th>13</th>\n",
       "      <td>3/5/2020</td>\n",
       "      <td>IDN</td>\n",
       "      <td>Indonesia</td>\n",
       "      <td>0</td>\n",
       "      <td>0</td>\n",
       "      <td>0</td>\n",
       "      <td>0</td>\n",
       "      <td>2</td>\n",
       "      <td>0</td>\n",
       "      <td>0</td>\n",
       "      <td>...</td>\n",
       "      <td>-0.789275</td>\n",
       "      <td>0.00</td>\n",
       "      <td>0.01</td>\n",
       "      <td>0.00</td>\n",
       "      <td>0.00</td>\n",
       "      <td>0.00</td>\n",
       "      <td>0.00%</td>\n",
       "      <td>0.00%</td>\n",
       "      <td>1.00</td>\n",
       "      <td>1.00</td>\n",
       "    </tr>\n",
       "    <tr>\n",
       "      <th>18</th>\n",
       "      <td>3/6/2020</td>\n",
       "      <td>IDN</td>\n",
       "      <td>Indonesia</td>\n",
       "      <td>2</td>\n",
       "      <td>0</td>\n",
       "      <td>0</td>\n",
       "      <td>2</td>\n",
       "      <td>4</td>\n",
       "      <td>0</td>\n",
       "      <td>0</td>\n",
       "      <td>...</td>\n",
       "      <td>-0.789275</td>\n",
       "      <td>0.01</td>\n",
       "      <td>0.02</td>\n",
       "      <td>0.00</td>\n",
       "      <td>0.00</td>\n",
       "      <td>0.00</td>\n",
       "      <td>0.00%</td>\n",
       "      <td>0.00%</td>\n",
       "      <td>NaN</td>\n",
       "      <td>1.00</td>\n",
       "    </tr>\n",
       "    <tr>\n",
       "      <th>...</th>\n",
       "      <td>...</td>\n",
       "      <td>...</td>\n",
       "      <td>...</td>\n",
       "      <td>...</td>\n",
       "      <td>...</td>\n",
       "      <td>...</td>\n",
       "      <td>...</td>\n",
       "      <td>...</td>\n",
       "      <td>...</td>\n",
       "      <td>...</td>\n",
       "      <td>...</td>\n",
       "      <td>...</td>\n",
       "      <td>...</td>\n",
       "      <td>...</td>\n",
       "      <td>...</td>\n",
       "      <td>...</td>\n",
       "      <td>...</td>\n",
       "      <td>...</td>\n",
       "      <td>...</td>\n",
       "      <td>...</td>\n",
       "      <td>...</td>\n",
       "    </tr>\n",
       "    <tr>\n",
       "      <th>21637</th>\n",
       "      <td>11/29/2021</td>\n",
       "      <td>IDN</td>\n",
       "      <td>Indonesia</td>\n",
       "      <td>176</td>\n",
       "      <td>11</td>\n",
       "      <td>419</td>\n",
       "      <td>-254</td>\n",
       "      <td>4256112</td>\n",
       "      <td>143819</td>\n",
       "      <td>4104333</td>\n",
       "      <td>...</td>\n",
       "      <td>-0.789275</td>\n",
       "      <td>0.66</td>\n",
       "      <td>16049.56</td>\n",
       "      <td>0.04</td>\n",
       "      <td>542.33</td>\n",
       "      <td>54.23</td>\n",
       "      <td>3.38%</td>\n",
       "      <td>96.43%</td>\n",
       "      <td>0.67</td>\n",
       "      <td>11.00</td>\n",
       "    </tr>\n",
       "    <tr>\n",
       "      <th>21670</th>\n",
       "      <td>11/30/2021</td>\n",
       "      <td>IDN</td>\n",
       "      <td>Indonesia</td>\n",
       "      <td>297</td>\n",
       "      <td>11</td>\n",
       "      <td>324</td>\n",
       "      <td>-38</td>\n",
       "      <td>4256409</td>\n",
       "      <td>143830</td>\n",
       "      <td>4104657</td>\n",
       "      <td>...</td>\n",
       "      <td>-0.789275</td>\n",
       "      <td>1.12</td>\n",
       "      <td>16050.68</td>\n",
       "      <td>0.04</td>\n",
       "      <td>542.38</td>\n",
       "      <td>54.24</td>\n",
       "      <td>3.38%</td>\n",
       "      <td>96.43%</td>\n",
       "      <td>1.69</td>\n",
       "      <td>1.00</td>\n",
       "    </tr>\n",
       "    <tr>\n",
       "      <th>21703</th>\n",
       "      <td>12/1/2021</td>\n",
       "      <td>IDN</td>\n",
       "      <td>Indonesia</td>\n",
       "      <td>278</td>\n",
       "      <td>10</td>\n",
       "      <td>307</td>\n",
       "      <td>-39</td>\n",
       "      <td>4256687</td>\n",
       "      <td>143840</td>\n",
       "      <td>4104964</td>\n",
       "      <td>...</td>\n",
       "      <td>-0.789275</td>\n",
       "      <td>1.05</td>\n",
       "      <td>16051.73</td>\n",
       "      <td>0.04</td>\n",
       "      <td>542.41</td>\n",
       "      <td>54.24</td>\n",
       "      <td>3.38%</td>\n",
       "      <td>96.44%</td>\n",
       "      <td>0.94</td>\n",
       "      <td>0.91</td>\n",
       "    </tr>\n",
       "    <tr>\n",
       "      <th>21735</th>\n",
       "      <td>12/2/2021</td>\n",
       "      <td>IDN</td>\n",
       "      <td>Indonesia</td>\n",
       "      <td>311</td>\n",
       "      <td>10</td>\n",
       "      <td>388</td>\n",
       "      <td>-87</td>\n",
       "      <td>4256998</td>\n",
       "      <td>143850</td>\n",
       "      <td>4105352</td>\n",
       "      <td>...</td>\n",
       "      <td>-0.789275</td>\n",
       "      <td>1.17</td>\n",
       "      <td>16052.91</td>\n",
       "      <td>0.04</td>\n",
       "      <td>542.45</td>\n",
       "      <td>54.25</td>\n",
       "      <td>3.38%</td>\n",
       "      <td>96.44%</td>\n",
       "      <td>1.12</td>\n",
       "      <td>1.00</td>\n",
       "    </tr>\n",
       "    <tr>\n",
       "      <th>21758</th>\n",
       "      <td>12/3/2021</td>\n",
       "      <td>IDN</td>\n",
       "      <td>Indonesia</td>\n",
       "      <td>245</td>\n",
       "      <td>8</td>\n",
       "      <td>328</td>\n",
       "      <td>-91</td>\n",
       "      <td>4257243</td>\n",
       "      <td>143858</td>\n",
       "      <td>4105680</td>\n",
       "      <td>...</td>\n",
       "      <td>-0.789275</td>\n",
       "      <td>0.92</td>\n",
       "      <td>16053.83</td>\n",
       "      <td>0.03</td>\n",
       "      <td>542.48</td>\n",
       "      <td>54.25</td>\n",
       "      <td>3.38%</td>\n",
       "      <td>96.44%</td>\n",
       "      <td>0.79</td>\n",
       "      <td>0.80</td>\n",
       "    </tr>\n",
       "  </tbody>\n",
       "</table>\n",
       "<p>642 rows × 38 columns</p>\n",
       "</div>"
      ],
      "text/plain": [
       "             Date Location ISO Code   Location  New Cases  New Deaths  \\\n",
       "2        3/2/2020               IDN  Indonesia          2           0   \n",
       "5        3/3/2020               IDN  Indonesia          0           0   \n",
       "9        3/4/2020               IDN  Indonesia          0           0   \n",
       "13       3/5/2020               IDN  Indonesia          0           0   \n",
       "18       3/6/2020               IDN  Indonesia          2           0   \n",
       "...           ...               ...        ...        ...         ...   \n",
       "21637  11/29/2021               IDN  Indonesia        176          11   \n",
       "21670  11/30/2021               IDN  Indonesia        297          11   \n",
       "21703   12/1/2021               IDN  Indonesia        278          10   \n",
       "21735   12/2/2021               IDN  Indonesia        311          10   \n",
       "21758   12/3/2021               IDN  Indonesia        245           8   \n",
       "\n",
       "       New Recovered  New Active Cases  Total Cases  Total Deaths  \\\n",
       "2                  0                 2            2             0   \n",
       "5                  0                 0            2             0   \n",
       "9                  0                 0            2             0   \n",
       "13                 0                 0            2             0   \n",
       "18                 0                 2            4             0   \n",
       "...              ...               ...          ...           ...   \n",
       "21637            419              -254      4256112        143819   \n",
       "21670            324               -38      4256409        143830   \n",
       "21703            307               -39      4256687        143840   \n",
       "21735            388               -87      4256998        143850   \n",
       "21758            328               -91      4257243        143858   \n",
       "\n",
       "       Total Recovered  ...  Latitude New Cases per Million  \\\n",
       "2                    0  ... -0.789275                  0.01   \n",
       "5                    0  ... -0.789275                  0.00   \n",
       "9                    0  ... -0.789275                  0.00   \n",
       "13                   0  ... -0.789275                  0.00   \n",
       "18                   0  ... -0.789275                  0.01   \n",
       "...                ...  ...       ...                   ...   \n",
       "21637          4104333  ... -0.789275                  0.66   \n",
       "21670          4104657  ... -0.789275                  1.12   \n",
       "21703          4104964  ... -0.789275                  1.05   \n",
       "21735          4105352  ... -0.789275                  1.17   \n",
       "21758          4105680  ... -0.789275                  0.92   \n",
       "\n",
       "       Total Cases per Million New Deaths per Million  \\\n",
       "2                         0.01                   0.00   \n",
       "5                         0.01                   0.00   \n",
       "9                         0.01                   0.00   \n",
       "13                        0.01                   0.00   \n",
       "18                        0.02                   0.00   \n",
       "...                        ...                    ...   \n",
       "21637                 16049.56                   0.04   \n",
       "21670                 16050.68                   0.04   \n",
       "21703                 16051.73                   0.04   \n",
       "21735                 16052.91                   0.04   \n",
       "21758                 16053.83                   0.03   \n",
       "\n",
       "      Total Deaths per Million Total Deaths per 100rb Case Fatality Rate  \\\n",
       "2                         0.00                   0.00              0.00%   \n",
       "5                         0.00                   0.00              0.00%   \n",
       "9                         0.00                   0.00              0.00%   \n",
       "13                        0.00                   0.00              0.00%   \n",
       "18                        0.00                   0.00              0.00%   \n",
       "...                        ...                    ...                ...   \n",
       "21637                   542.33                  54.23              3.38%   \n",
       "21670                   542.38                  54.24              3.38%   \n",
       "21703                   542.41                  54.24              3.38%   \n",
       "21735                   542.45                  54.25              3.38%   \n",
       "21758                   542.48                  54.25              3.38%   \n",
       "\n",
       "      Case Recovered Rate Growth Factor of New Cases  \\\n",
       "2                   0.00%                        NaN   \n",
       "5                   0.00%                       0.00   \n",
       "9                   0.00%                       1.00   \n",
       "13                  0.00%                       1.00   \n",
       "18                  0.00%                        NaN   \n",
       "...                   ...                        ...   \n",
       "21637              96.43%                       0.67   \n",
       "21670              96.43%                       1.69   \n",
       "21703              96.44%                       0.94   \n",
       "21735              96.44%                       1.12   \n",
       "21758              96.44%                       0.79   \n",
       "\n",
       "       Growth Factor of New Deaths  \n",
       "2                              NaN  \n",
       "5                             1.00  \n",
       "9                             1.00  \n",
       "13                            1.00  \n",
       "18                            1.00  \n",
       "...                            ...  \n",
       "21637                        11.00  \n",
       "21670                         1.00  \n",
       "21703                         0.91  \n",
       "21735                         1.00  \n",
       "21758                         0.80  \n",
       "\n",
       "[642 rows x 38 columns]"
      ]
     },
     "execution_count": 184,
     "metadata": {},
     "output_type": "execute_result"
    }
   ],
   "source": [
    "df_country = df[df['Location Level'] == 'Country']\n",
    "df_country"
   ]
  },
  {
   "cell_type": "code",
   "execution_count": 185,
   "metadata": {},
   "outputs": [
    {
     "data": {
      "text/html": [
       "<div>\n",
       "<style scoped>\n",
       "    .dataframe tbody tr th:only-of-type {\n",
       "        vertical-align: middle;\n",
       "    }\n",
       "\n",
       "    .dataframe tbody tr th {\n",
       "        vertical-align: top;\n",
       "    }\n",
       "\n",
       "    .dataframe thead th {\n",
       "        text-align: right;\n",
       "    }\n",
       "</style>\n",
       "<table border=\"1\" class=\"dataframe\">\n",
       "  <thead>\n",
       "    <tr style=\"text-align: right;\">\n",
       "      <th></th>\n",
       "      <th>Date</th>\n",
       "      <th>Location ISO Code</th>\n",
       "      <th>Location</th>\n",
       "      <th>New Cases</th>\n",
       "      <th>New Deaths</th>\n",
       "      <th>New Recovered</th>\n",
       "      <th>New Active Cases</th>\n",
       "      <th>Total Cases</th>\n",
       "      <th>Total Deaths</th>\n",
       "      <th>Total Recovered</th>\n",
       "      <th>...</th>\n",
       "      <th>Latitude</th>\n",
       "      <th>New Cases per Million</th>\n",
       "      <th>Total Cases per Million</th>\n",
       "      <th>New Deaths per Million</th>\n",
       "      <th>Total Deaths per Million</th>\n",
       "      <th>Total Deaths per 100rb</th>\n",
       "      <th>Case Fatality Rate</th>\n",
       "      <th>Case Recovered Rate</th>\n",
       "      <th>Growth Factor of New Cases</th>\n",
       "      <th>Growth Factor of New Deaths</th>\n",
       "    </tr>\n",
       "  </thead>\n",
       "  <tbody>\n",
       "    <tr>\n",
       "      <th>0</th>\n",
       "      <td>3/1/2020</td>\n",
       "      <td>ID-JK</td>\n",
       "      <td>DKI Jakarta</td>\n",
       "      <td>2</td>\n",
       "      <td>0</td>\n",
       "      <td>0</td>\n",
       "      <td>2</td>\n",
       "      <td>39</td>\n",
       "      <td>20</td>\n",
       "      <td>41</td>\n",
       "      <td>...</td>\n",
       "      <td>-6.204699</td>\n",
       "      <td>0.18</td>\n",
       "      <td>3.60</td>\n",
       "      <td>0.00</td>\n",
       "      <td>1.84</td>\n",
       "      <td>0.18</td>\n",
       "      <td>51.28%</td>\n",
       "      <td>105.13%</td>\n",
       "      <td>NaN</td>\n",
       "      <td>NaN</td>\n",
       "    </tr>\n",
       "    <tr>\n",
       "      <th>1</th>\n",
       "      <td>3/2/2020</td>\n",
       "      <td>ID-JK</td>\n",
       "      <td>DKI Jakarta</td>\n",
       "      <td>2</td>\n",
       "      <td>0</td>\n",
       "      <td>0</td>\n",
       "      <td>2</td>\n",
       "      <td>41</td>\n",
       "      <td>20</td>\n",
       "      <td>41</td>\n",
       "      <td>...</td>\n",
       "      <td>-6.204699</td>\n",
       "      <td>0.18</td>\n",
       "      <td>3.78</td>\n",
       "      <td>0.00</td>\n",
       "      <td>1.84</td>\n",
       "      <td>0.18</td>\n",
       "      <td>48.78%</td>\n",
       "      <td>100.00%</td>\n",
       "      <td>1.0</td>\n",
       "      <td>1.0</td>\n",
       "    </tr>\n",
       "    <tr>\n",
       "      <th>3</th>\n",
       "      <td>3/2/2020</td>\n",
       "      <td>ID-RI</td>\n",
       "      <td>Riau</td>\n",
       "      <td>1</td>\n",
       "      <td>0</td>\n",
       "      <td>0</td>\n",
       "      <td>1</td>\n",
       "      <td>2</td>\n",
       "      <td>0</td>\n",
       "      <td>3</td>\n",
       "      <td>...</td>\n",
       "      <td>0.511648</td>\n",
       "      <td>0.16</td>\n",
       "      <td>0.33</td>\n",
       "      <td>0.00</td>\n",
       "      <td>0.00</td>\n",
       "      <td>0.00</td>\n",
       "      <td>0.00%</td>\n",
       "      <td>150.00%</td>\n",
       "      <td>NaN</td>\n",
       "      <td>NaN</td>\n",
       "    </tr>\n",
       "    <tr>\n",
       "      <th>4</th>\n",
       "      <td>3/3/2020</td>\n",
       "      <td>ID-JK</td>\n",
       "      <td>DKI Jakarta</td>\n",
       "      <td>2</td>\n",
       "      <td>0</td>\n",
       "      <td>0</td>\n",
       "      <td>2</td>\n",
       "      <td>43</td>\n",
       "      <td>20</td>\n",
       "      <td>41</td>\n",
       "      <td>...</td>\n",
       "      <td>-6.204699</td>\n",
       "      <td>0.18</td>\n",
       "      <td>3.96</td>\n",
       "      <td>0.00</td>\n",
       "      <td>1.84</td>\n",
       "      <td>0.18</td>\n",
       "      <td>46.51%</td>\n",
       "      <td>95.35%</td>\n",
       "      <td>1.0</td>\n",
       "      <td>1.0</td>\n",
       "    </tr>\n",
       "    <tr>\n",
       "      <th>6</th>\n",
       "      <td>3/3/2020</td>\n",
       "      <td>ID-JB</td>\n",
       "      <td>Jawa Barat</td>\n",
       "      <td>1</td>\n",
       "      <td>1</td>\n",
       "      <td>0</td>\n",
       "      <td>0</td>\n",
       "      <td>1</td>\n",
       "      <td>1</td>\n",
       "      <td>8</td>\n",
       "      <td>...</td>\n",
       "      <td>-6.920432</td>\n",
       "      <td>0.02</td>\n",
       "      <td>0.02</td>\n",
       "      <td>0.02</td>\n",
       "      <td>0.02</td>\n",
       "      <td>0.00</td>\n",
       "      <td>100.00%</td>\n",
       "      <td>800.00%</td>\n",
       "      <td>NaN</td>\n",
       "      <td>NaN</td>\n",
       "    </tr>\n",
       "    <tr>\n",
       "      <th>...</th>\n",
       "      <td>...</td>\n",
       "      <td>...</td>\n",
       "      <td>...</td>\n",
       "      <td>...</td>\n",
       "      <td>...</td>\n",
       "      <td>...</td>\n",
       "      <td>...</td>\n",
       "      <td>...</td>\n",
       "      <td>...</td>\n",
       "      <td>...</td>\n",
       "      <td>...</td>\n",
       "      <td>...</td>\n",
       "      <td>...</td>\n",
       "      <td>...</td>\n",
       "      <td>...</td>\n",
       "      <td>...</td>\n",
       "      <td>...</td>\n",
       "      <td>...</td>\n",
       "      <td>...</td>\n",
       "      <td>...</td>\n",
       "      <td>...</td>\n",
       "    </tr>\n",
       "    <tr>\n",
       "      <th>21753</th>\n",
       "      <td>12/2/2021</td>\n",
       "      <td>ID-SG</td>\n",
       "      <td>Sulawesi Tenggara</td>\n",
       "      <td>3</td>\n",
       "      <td>0</td>\n",
       "      <td>0</td>\n",
       "      <td>3</td>\n",
       "      <td>20160</td>\n",
       "      <td>527</td>\n",
       "      <td>19583</td>\n",
       "      <td>...</td>\n",
       "      <td>-4.124689</td>\n",
       "      <td>1.14</td>\n",
       "      <td>7649.52</td>\n",
       "      <td>0.00</td>\n",
       "      <td>199.97</td>\n",
       "      <td>20.00</td>\n",
       "      <td>2.61%</td>\n",
       "      <td>97.14%</td>\n",
       "      <td>NaN</td>\n",
       "      <td>1.0</td>\n",
       "    </tr>\n",
       "    <tr>\n",
       "      <th>21754</th>\n",
       "      <td>12/2/2021</td>\n",
       "      <td>ID-SA</td>\n",
       "      <td>Sulawesi Utara</td>\n",
       "      <td>2</td>\n",
       "      <td>0</td>\n",
       "      <td>0</td>\n",
       "      <td>2</td>\n",
       "      <td>34715</td>\n",
       "      <td>1056</td>\n",
       "      <td>33566</td>\n",
       "      <td>...</td>\n",
       "      <td>1.259638</td>\n",
       "      <td>0.76</td>\n",
       "      <td>13140.24</td>\n",
       "      <td>0.00</td>\n",
       "      <td>399.71</td>\n",
       "      <td>39.97</td>\n",
       "      <td>3.04%</td>\n",
       "      <td>96.69%</td>\n",
       "      <td>NaN</td>\n",
       "      <td>1.0</td>\n",
       "    </tr>\n",
       "    <tr>\n",
       "      <th>21755</th>\n",
       "      <td>12/2/2021</td>\n",
       "      <td>ID-SB</td>\n",
       "      <td>Sumatera Barat</td>\n",
       "      <td>4</td>\n",
       "      <td>0</td>\n",
       "      <td>0</td>\n",
       "      <td>4</td>\n",
       "      <td>89849</td>\n",
       "      <td>2152</td>\n",
       "      <td>87605</td>\n",
       "      <td>...</td>\n",
       "      <td>-0.850253</td>\n",
       "      <td>0.72</td>\n",
       "      <td>16279.22</td>\n",
       "      <td>0.00</td>\n",
       "      <td>389.91</td>\n",
       "      <td>38.99</td>\n",
       "      <td>2.40%</td>\n",
       "      <td>97.50%</td>\n",
       "      <td>4.0</td>\n",
       "      <td>1.0</td>\n",
       "    </tr>\n",
       "    <tr>\n",
       "      <th>21756</th>\n",
       "      <td>12/2/2021</td>\n",
       "      <td>ID-SS</td>\n",
       "      <td>Sumatera Selatan</td>\n",
       "      <td>4</td>\n",
       "      <td>0</td>\n",
       "      <td>0</td>\n",
       "      <td>4</td>\n",
       "      <td>59937</td>\n",
       "      <td>3071</td>\n",
       "      <td>56830</td>\n",
       "      <td>...</td>\n",
       "      <td>-3.216212</td>\n",
       "      <td>0.49</td>\n",
       "      <td>7293.78</td>\n",
       "      <td>0.00</td>\n",
       "      <td>373.71</td>\n",
       "      <td>37.37</td>\n",
       "      <td>5.12%</td>\n",
       "      <td>94.82%</td>\n",
       "      <td>4.0</td>\n",
       "      <td>1.0</td>\n",
       "    </tr>\n",
       "    <tr>\n",
       "      <th>21757</th>\n",
       "      <td>12/2/2021</td>\n",
       "      <td>ID-SU</td>\n",
       "      <td>Sumatera Utara</td>\n",
       "      <td>4</td>\n",
       "      <td>0</td>\n",
       "      <td>1</td>\n",
       "      <td>3</td>\n",
       "      <td>106045</td>\n",
       "      <td>2889</td>\n",
       "      <td>103061</td>\n",
       "      <td>...</td>\n",
       "      <td>2.191894</td>\n",
       "      <td>0.27</td>\n",
       "      <td>7129.13</td>\n",
       "      <td>0.00</td>\n",
       "      <td>194.22</td>\n",
       "      <td>19.42</td>\n",
       "      <td>2.72%</td>\n",
       "      <td>97.19%</td>\n",
       "      <td>1.0</td>\n",
       "      <td>1.0</td>\n",
       "    </tr>\n",
       "  </tbody>\n",
       "</table>\n",
       "<p>21117 rows × 38 columns</p>\n",
       "</div>"
      ],
      "text/plain": [
       "            Date Location ISO Code           Location  New Cases  New Deaths  \\\n",
       "0       3/1/2020             ID-JK        DKI Jakarta          2           0   \n",
       "1       3/2/2020             ID-JK        DKI Jakarta          2           0   \n",
       "3       3/2/2020             ID-RI               Riau          1           0   \n",
       "4       3/3/2020             ID-JK        DKI Jakarta          2           0   \n",
       "6       3/3/2020             ID-JB         Jawa Barat          1           1   \n",
       "...          ...               ...                ...        ...         ...   \n",
       "21753  12/2/2021             ID-SG  Sulawesi Tenggara          3           0   \n",
       "21754  12/2/2021             ID-SA     Sulawesi Utara          2           0   \n",
       "21755  12/2/2021             ID-SB     Sumatera Barat          4           0   \n",
       "21756  12/2/2021             ID-SS   Sumatera Selatan          4           0   \n",
       "21757  12/2/2021             ID-SU     Sumatera Utara          4           0   \n",
       "\n",
       "       New Recovered  New Active Cases  Total Cases  Total Deaths  \\\n",
       "0                  0                 2           39            20   \n",
       "1                  0                 2           41            20   \n",
       "3                  0                 1            2             0   \n",
       "4                  0                 2           43            20   \n",
       "6                  0                 0            1             1   \n",
       "...              ...               ...          ...           ...   \n",
       "21753              0                 3        20160           527   \n",
       "21754              0                 2        34715          1056   \n",
       "21755              0                 4        89849          2152   \n",
       "21756              0                 4        59937          3071   \n",
       "21757              1                 3       106045          2889   \n",
       "\n",
       "       Total Recovered  ...  Latitude New Cases per Million  \\\n",
       "0                   41  ... -6.204699                  0.18   \n",
       "1                   41  ... -6.204699                  0.18   \n",
       "3                    3  ...  0.511648                  0.16   \n",
       "4                   41  ... -6.204699                  0.18   \n",
       "6                    8  ... -6.920432                  0.02   \n",
       "...                ...  ...       ...                   ...   \n",
       "21753            19583  ... -4.124689                  1.14   \n",
       "21754            33566  ...  1.259638                  0.76   \n",
       "21755            87605  ... -0.850253                  0.72   \n",
       "21756            56830  ... -3.216212                  0.49   \n",
       "21757           103061  ...  2.191894                  0.27   \n",
       "\n",
       "       Total Cases per Million New Deaths per Million  \\\n",
       "0                         3.60                   0.00   \n",
       "1                         3.78                   0.00   \n",
       "3                         0.33                   0.00   \n",
       "4                         3.96                   0.00   \n",
       "6                         0.02                   0.02   \n",
       "...                        ...                    ...   \n",
       "21753                  7649.52                   0.00   \n",
       "21754                 13140.24                   0.00   \n",
       "21755                 16279.22                   0.00   \n",
       "21756                  7293.78                   0.00   \n",
       "21757                  7129.13                   0.00   \n",
       "\n",
       "      Total Deaths per Million Total Deaths per 100rb Case Fatality Rate  \\\n",
       "0                         1.84                   0.18             51.28%   \n",
       "1                         1.84                   0.18             48.78%   \n",
       "3                         0.00                   0.00              0.00%   \n",
       "4                         1.84                   0.18             46.51%   \n",
       "6                         0.02                   0.00            100.00%   \n",
       "...                        ...                    ...                ...   \n",
       "21753                   199.97                  20.00              2.61%   \n",
       "21754                   399.71                  39.97              3.04%   \n",
       "21755                   389.91                  38.99              2.40%   \n",
       "21756                   373.71                  37.37              5.12%   \n",
       "21757                   194.22                  19.42              2.72%   \n",
       "\n",
       "      Case Recovered Rate Growth Factor of New Cases  \\\n",
       "0                 105.13%                        NaN   \n",
       "1                 100.00%                        1.0   \n",
       "3                 150.00%                        NaN   \n",
       "4                  95.35%                        1.0   \n",
       "6                 800.00%                        NaN   \n",
       "...                   ...                        ...   \n",
       "21753              97.14%                        NaN   \n",
       "21754              96.69%                        NaN   \n",
       "21755              97.50%                        4.0   \n",
       "21756              94.82%                        4.0   \n",
       "21757              97.19%                        1.0   \n",
       "\n",
       "       Growth Factor of New Deaths  \n",
       "0                              NaN  \n",
       "1                              1.0  \n",
       "3                              NaN  \n",
       "4                              1.0  \n",
       "6                              NaN  \n",
       "...                            ...  \n",
       "21753                          1.0  \n",
       "21754                          1.0  \n",
       "21755                          1.0  \n",
       "21756                          1.0  \n",
       "21757                          1.0  \n",
       "\n",
       "[21117 rows x 38 columns]"
      ]
     },
     "execution_count": 185,
     "metadata": {},
     "output_type": "execute_result"
    }
   ],
   "source": [
    "df_province = df[df['Location Level'] == 'Province']\n",
    "df_province"
   ]
  },
  {
   "cell_type": "markdown",
   "metadata": {},
   "source": [
    "## Measure of Central Tendency Data"
   ]
  },
  {
   "cell_type": "markdown",
   "metadata": {},
   "source": [
    "Mathematically central tendency means measuring the center or distribution of location of values of a data set. It gives an idea of the average value of the data in the data set and also an indication of how widely the values are spread in the data set. That in turn helps in evaluating the chances of a new input fitting into the existing data set and hence probability of success.\n",
    "\n",
    "There are three main measures of central tendency which can be calculated using the methods in pandas python library.\n",
    "- Mean - It is the Average value of the data which is a division of sum of the values with the number of values.\n",
    "- Median - It is the middle value in distribution when the values are arranged in ascending or descending order.\n",
    "- Mode - It is the most commonly occurring value in a distribution."
   ]
  },
  {
   "cell_type": "markdown",
   "metadata": {},
   "source": [
    "### *Mean* "
   ]
  },
  {
   "cell_type": "markdown",
   "metadata": {},
   "source": [
    "**This is calculated as the sum of the values in the dataset, divided by the number of observations in the dataset.** When the dataset consists of the full population, the mean is represented by the Greek symbol ***&mu;*** (*mu*), and the formula is written like this:\n",
    "\n",
    "$$\n",
    "\\begin{equation}\\mu = \\frac{\\displaystyle\\sum_{i=1}^{N}X_{i}}{N}\\end{equation}\n",
    "$$"
   ]
  },
  {
   "cell_type": "markdown",
   "metadata": {},
   "source": [
    "We will calculate the mean of *Total Cases, Total Deaths, Total Recovered, Total Active Cases*."
   ]
  },
  {
   "cell_type": "markdown",
   "metadata": {},
   "source": [
    "**Country Data**"
   ]
  },
  {
   "cell_type": "code",
   "execution_count": 186,
   "metadata": {},
   "outputs": [
    {
     "name": "stdout",
     "output_type": "stream",
     "text": [
      "New Cases mean 6631.219626168225\n",
      "New Deaths mean 224.0778816199377\n",
      "New Recovered mean 6395.140186915888\n",
      "New Active Cases mean 12.001557632398754\n"
     ]
    }
   ],
   "source": [
    "numcols = ['New Cases', 'New Deaths', 'New Recovered', 'New Active Cases']\n",
    "for col in numcols:\n",
    "    print(df_country[col].name + ' mean ' + str(df_country[col].mean()))"
   ]
  },
  {
   "cell_type": "markdown",
   "metadata": {},
   "source": [
    "**Provinces Data**"
   ]
  },
  {
   "cell_type": "code",
   "execution_count": 187,
   "metadata": {},
   "outputs": [
    {
     "name": "stdout",
     "output_type": "stream",
     "text": [
      "New Cases mean 201.58706255623432\n",
      "New Deaths mean 6.809916181275749\n",
      "New Recovered mean 194.35667945257376\n",
      "New Active Cases mean 0.42046692238480843\n"
     ]
    }
   ],
   "source": [
    "numcols = ['New Cases', 'New Deaths', 'New Recovered', 'New Active Cases']\n",
    "for col in numcols:\n",
    "    print(df_province[col].name + ' mean ' + str(df_province[col].mean()))"
   ]
  },
  {
   "cell_type": "markdown",
   "metadata": {},
   "source": [
    "### *Median*"
   ]
  },
  {
   "cell_type": "markdown",
   "metadata": {},
   "source": [
    "**To calculate the median, we need to sort the values into ascending order and then find the middle-most value.** When there are an odd number of observations, you can find the position of the median value using this formula (where *n* is the number of observations):\n",
    "\n",
    "$$\n",
    "\\begin{equation}\\frac{n+1}{2}\\end{equation}\n",
    "$$"
   ]
  },
  {
   "cell_type": "markdown",
   "metadata": {},
   "source": [
    "**Country Data**"
   ]
  },
  {
   "cell_type": "code",
   "execution_count": 188,
   "metadata": {},
   "outputs": [
    {
     "name": "stdout",
     "output_type": "stream",
     "text": [
      "New Cases median 4070.5\n",
      "New Deaths median 112.0\n",
      "New Recovered median 3855.0\n",
      "New Active Cases median 118.5\n"
     ]
    }
   ],
   "source": [
    "numcols = ['New Cases', 'New Deaths', 'New Recovered', 'New Active Cases']\n",
    "for col in numcols:\n",
    "    print(df_country[col].name + ' median ' + str(df_country[col].median()))"
   ]
  },
  {
   "cell_type": "markdown",
   "metadata": {},
   "source": [
    "**Provinces Data**"
   ]
  },
  {
   "cell_type": "code",
   "execution_count": 189,
   "metadata": {},
   "outputs": [
    {
     "name": "stdout",
     "output_type": "stream",
     "text": [
      "New Cases median 38.0\n",
      "New Deaths median 1.0\n",
      "New Recovered median 29.0\n",
      "New Active Cases median 0.0\n"
     ]
    }
   ],
   "source": [
    "numcols = ['New Cases', 'New Deaths', 'New Recovered', 'New Active Cases']\n",
    "for col in numcols:\n",
    "    print(df_province[col].name + ' median ' + str(df_province[col].median()))"
   ]
  },
  {
   "cell_type": "markdown",
   "metadata": {},
   "source": [
    "### *Mode*"
   ]
  },
  {
   "cell_type": "markdown",
   "metadata": {},
   "source": [
    "Another related statistic is the mode, which indicates the most frequently occurring value. If you think about it, this is potentially a good indicator of how much a student might expect to earn when they graduate from the school; out of all the salaries that are being earned by former students, the mode is earned by more than any other."
   ]
  },
  {
   "cell_type": "markdown",
   "metadata": {},
   "source": [
    "**Country Data**"
   ]
  },
  {
   "cell_type": "code",
   "execution_count": 190,
   "metadata": {},
   "outputs": [
    {
     "name": "stdout",
     "output_type": "stream",
     "text": [
      "New Cases mode 0    0\n",
      "Name: New Cases, dtype: int64\n",
      "New Deaths mode 0    0\n",
      "Name: New Deaths, dtype: int64\n",
      "New Recovered mode 0    0\n",
      "Name: New Recovered, dtype: int64\n",
      "New Active Cases mode 0    0\n",
      "Name: New Active Cases, dtype: int64\n"
     ]
    }
   ],
   "source": [
    "numcols = ['New Cases', 'New Deaths', 'New Recovered', 'New Active Cases']\n",
    "for col in numcols:\n",
    "    print(df_country[col].name + ' mode ' + str(df_country[col].mode()))"
   ]
  },
  {
   "cell_type": "markdown",
   "metadata": {},
   "source": [
    "**Provinces Data**"
   ]
  },
  {
   "cell_type": "code",
   "execution_count": 191,
   "metadata": {},
   "outputs": [
    {
     "name": "stdout",
     "output_type": "stream",
     "text": [
      "New Cases mode 0    0\n",
      "Name: New Cases, dtype: int64\n",
      "New Deaths mode 0    0\n",
      "Name: New Deaths, dtype: int64\n",
      "New Recovered mode 0    0\n",
      "Name: New Recovered, dtype: int64\n",
      "New Active Cases mode 0    0\n",
      "Name: New Active Cases, dtype: int64\n"
     ]
    }
   ],
   "source": [
    "numcols = ['New Cases', 'New Deaths', 'New Recovered', 'New Active Cases']\n",
    "for col in numcols:\n",
    "    print(df_province[col].name + ' mode ' + str(df_province[col].mode()))"
   ]
  },
  {
   "cell_type": "markdown",
   "metadata": {},
   "source": [
    "---"
   ]
  },
  {
   "cell_type": "markdown",
   "metadata": {},
   "source": [
    "## Measure of Variance Data"
   ]
  },
  {
   "cell_type": "markdown",
   "metadata": {},
   "source": [
    "We can see from the distribution plots of our data that the values in our dataset can vary quite widely. We can use various measures to quantify this variance."
   ]
  },
  {
   "cell_type": "markdown",
   "metadata": {},
   "source": [
    "### *Range*"
   ]
  },
  {
   "cell_type": "markdown",
   "metadata": {},
   "source": [
    "A simple way to quantify the variance in a dataset is to identify the **difference between the lowest and highest values**. This is called the range, and is calculated by **subtracting the minimim value from the maximum value**."
   ]
  },
  {
   "cell_type": "markdown",
   "metadata": {},
   "source": [
    "**Country Data**"
   ]
  },
  {
   "cell_type": "code",
   "execution_count": 192,
   "metadata": {},
   "outputs": [
    {
     "name": "stdout",
     "output_type": "stream",
     "text": [
      "New Cases range: 56757\n",
      "New Deaths range: 2069\n",
      "New Recovered range: 48832\n",
      "New Active Cases range: 62451\n"
     ]
    }
   ],
   "source": [
    "numcols = ['New Cases', 'New Deaths', 'New Recovered', 'New Active Cases']\n",
    "for col in numcols:\n",
    "    print(df_country[col].name + ' range: ' + str(df_country[col].max() - df_country[col].min()))"
   ]
  },
  {
   "cell_type": "markdown",
   "metadata": {},
   "source": [
    "**Provinces Data**"
   ]
  },
  {
   "cell_type": "code",
   "execution_count": 193,
   "metadata": {},
   "outputs": [
    {
     "name": "stdout",
     "output_type": "stream",
     "text": [
      "New Cases range: 14622\n",
      "New Deaths range: 544\n",
      "New Recovered range: 20602\n",
      "New Active Cases range: 25334\n"
     ]
    }
   ],
   "source": [
    "numcols = ['New Cases', 'New Deaths', 'New Recovered', 'New Active Cases']\n",
    "for col in numcols:\n",
    "    print(df_province[col].name + ' range: ' + str(df_province[col].max() - df_province[col].min()))"
   ]
  },
  {
   "cell_type": "markdown",
   "metadata": {},
   "source": [
    "### *Percentiles and Quartiles*"
   ]
  },
  {
   "cell_type": "markdown",
   "metadata": {},
   "source": [
    "The range is easy to calculate, but it's not a particularly useful statistic. For example, a range of 4257241 between the lowest and highest total cases does not tell us which value within that range a case is most likely a lot - it doesn't tell us nothing about how the cases are distributed around the mean within that range."
   ]
  },
  {
   "cell_type": "markdown",
   "metadata": {},
   "source": [
    "#### Percentiles"
   ]
  },
  {
   "cell_type": "markdown",
   "metadata": {},
   "source": [
    "A percentile tells us where a given value is ranked in the overall distribution. For example, 25% of the data in a distribution has a value lower than the 25th percentile; 75% of the data has a value lower than the 75th percentile, and so on. Note that half of the data has a value lower than the 50th percentile - so the 50th percentile is also the median!"
   ]
  },
  {
   "cell_type": "code",
   "execution_count": 194,
   "metadata": {},
   "outputs": [
    {
     "name": "stdout",
     "output_type": "stream",
     "text": [
      "73.98753894080997\n"
     ]
    }
   ],
   "source": [
    "print(stats.percentileofscore(df_country['New Cases'], df_country['New Cases'].mean(), 'strict'))"
   ]
  },
  {
   "cell_type": "markdown",
   "metadata": {},
   "source": [
    "So this mean of new cases is at the 73.9th percentile of total new case data."
   ]
  },
  {
   "cell_type": "markdown",
   "metadata": {},
   "source": [
    "#### Quartile"
   ]
  },
  {
   "cell_type": "markdown",
   "metadata": {},
   "source": [
    "Rather than using individual percentiles to compare data, we can consider the overall spread of the data by dividing those percentiles into four quartiles. The first quartile contains the values from the minimum to the 25th percentile, the second from the 25th percentile to the 50th percentile (which is the median), the third from the 50th percentile to the 75th percentile, and the fourth from the 75th percentile to the maximum."
   ]
  },
  {
   "cell_type": "markdown",
   "metadata": {},
   "source": [
    "**Country Data**"
   ]
  },
  {
   "cell_type": "code",
   "execution_count": 195,
   "metadata": {},
   "outputs": [
    {
     "name": "stdout",
     "output_type": "stream",
     "text": [
      "Country New Cases quartile:\n",
      "0.25    1044.25\n",
      "0.50    4070.50\n",
      "0.75    6737.75\n",
      "Name: New Cases, dtype: float64\n",
      "Country New Deaths quartile:\n",
      "0.25     47.25\n",
      "0.50    112.00\n",
      "0.75    193.75\n",
      "Name: New Deaths, dtype: float64\n",
      "Country New Recovered quartile:\n",
      "0.25     889.75\n",
      "0.50    3855.00\n",
      "0.75    6976.75\n",
      "Name: New Recovered, dtype: float64\n",
      "Country New Active Cases quartile:\n",
      "0.25   -619.75\n",
      "0.50    118.50\n",
      "0.75    639.75\n",
      "Name: New Active Cases, dtype: float64\n"
     ]
    }
   ],
   "source": [
    "numcols = ['New Cases', 'New Deaths', 'New Recovered', 'New Active Cases']\n",
    "for col in numcols:\n",
    "    print('Country ' + df_country[col].name + ' quartile:\\n' + str(df_country[col].quantile([0.25, 0.5, 0.75])))"
   ]
  },
  {
   "cell_type": "markdown",
   "metadata": {},
   "source": [
    "**Provinces Data**"
   ]
  },
  {
   "cell_type": "code",
   "execution_count": 196,
   "metadata": {},
   "outputs": [
    {
     "name": "stdout",
     "output_type": "stream",
     "text": [
      "All Provinces New Cases quartile:\n",
      "0.25      6.0\n",
      "0.50     38.0\n",
      "0.75    133.0\n",
      "Name: New Cases, dtype: float64\n",
      "All Provinces New Deaths quartile:\n",
      "0.25    0.0\n",
      "0.50    1.0\n",
      "0.75    4.0\n",
      "Name: New Deaths, dtype: float64\n",
      "All Provinces New Recovered quartile:\n",
      "0.25      4.0\n",
      "0.50     29.0\n",
      "0.75    126.0\n",
      "Name: New Recovered, dtype: float64\n",
      "All Provinces New Active Cases quartile:\n",
      "0.25   -15.0\n",
      "0.50     0.0\n",
      "0.75    25.0\n",
      "Name: New Active Cases, dtype: float64\n"
     ]
    }
   ],
   "source": [
    "numcols = ['New Cases', 'New Deaths', 'New Recovered', 'New Active Cases']\n",
    "for col in numcols:\n",
    "    print('All Provinces ' + df_province[col].name + ' quartile:\\n' + str(df_province[col].quantile([0.25, 0.5, 0.75])))"
   ]
  },
  {
   "cell_type": "markdown",
   "metadata": {},
   "source": [
    "### *Box Plot & Outliers*"
   ]
  },
  {
   "cell_type": "markdown",
   "metadata": {},
   "source": [
    "**An outlier is a value that is so far from the center of the distribution compared to other values that it skews the distribution by affecting the mean.** There are all sorts of reasons that you might have outliers in your data, including data entry errors, failures in sensors or data-generating equipment, or genuinely anomalous values."
   ]
  },
  {
   "cell_type": "markdown",
   "metadata": {},
   "source": [
    "Its usually easier to understand how data is distributed across the quartiles by visualizing it. We can use a histogram, but many data scientists use a kind of visualization called a box plot (or a box and whiskers plot)."
   ]
  },
  {
   "cell_type": "markdown",
   "metadata": {},
   "source": [
    "**Country Data**"
   ]
  },
  {
   "cell_type": "code",
   "execution_count": 197,
   "metadata": {},
   "outputs": [
    {
     "data": {
      "image/png": "[encoded data removed]",
      "text/plain": [
       "<Figure size 720x576 with 1 Axes>"
      ]
     },
     "metadata": {
      "needs_background": "light"
     },
     "output_type": "display_data"
    },
    {
     "data": {
      "image/png": "[encoded data removed]",
      "text/plain": [
       "<Figure size 720x576 with 1 Axes>"
      ]
     },
     "metadata": {
      "needs_background": "light"
     },
     "output_type": "display_data"
    },
    {
     "data": {
      "image/png": "[encoded data removed]",
      "text/plain": [
       "<Figure size 720x576 with 1 Axes>"
      ]
     },
     "metadata": {
      "needs_background": "light"
     },
     "output_type": "display_data"
    },
    {
     "data": {
      "image/png": "[encoded data removed]",
      "text/plain": [
       "<Figure size 720x576 with 1 Axes>"
      ]
     },
     "metadata": {
      "needs_background": "light"
     },
     "output_type": "display_data"
    }
   ],
   "source": [
    "# Plot a box-whisker chart\n",
    "numcols = ['New Cases', 'New Deaths', 'New Recovered', 'New Active Cases']\n",
    "for col in numcols:\n",
    "    df_country[col].plot(kind='box', title= col + ' Distribution', figsize=(10,8))\n",
    "    plt.show()"
   ]
  },
  {
   "cell_type": "markdown",
   "metadata": {},
   "source": [
    "**Provinces Data**"
   ]
  },
  {
   "cell_type": "code",
   "execution_count": 198,
   "metadata": {},
   "outputs": [
    {
     "data": {
      "image/png": "[encoded data removed]",
      "text/plain": [
       "<Figure size 720x576 with 1 Axes>"
      ]
     },
     "metadata": {
      "needs_background": "light"
     },
     "output_type": "display_data"
    },
    {
     "data": {
      "image/png": "[encoded data removed]",
      "text/plain": [
       "<Figure size 720x576 with 1 Axes>"
      ]
     },
     "metadata": {
      "needs_background": "light"
     },
     "output_type": "display_data"
    },
    {
     "data": {
      "image/png": "[encoded data removed]",
      "text/plain": [
       "<Figure size 720x576 with 1 Axes>"
      ]
     },
     "metadata": {
      "needs_background": "light"
     },
     "output_type": "display_data"
    },
    {
     "data": {
      "image/png": "[encoded data removed]",
      "text/plain": [
       "<Figure size 720x576 with 1 Axes>"
      ]
     },
     "metadata": {
      "needs_background": "light"
     },
     "output_type": "display_data"
    }
   ],
   "source": [
    "# Plot a box-whisker chart\n",
    "numcols = ['New Cases', 'New Deaths', 'New Recovered', 'New Active Cases']\n",
    "for col in numcols:\n",
    "    df_province[col].plot(kind='box', title= col + ' Distribution', figsize=(10,8))\n",
    "    plt.show()"
   ]
  },
  {
   "cell_type": "markdown",
   "metadata": {},
   "source": [
    "The box plot consists of:\n",
    "- A rectangular *box* that shows where the data between the 25th and 75th percentile (the second and third quartile) lie. This part of the distribution is often referred to as the *interquartile range* - it contains the middle 50 data values.\n",
    "- *Whiskers* that extend from the box to the bottom of the first quartile and the top of the fourth quartile to show the full range of the data.\n",
    "- A line in the box that shows that location of the median (the 50th percentile, which is also the threshold between the second and third quartile)"
   ]
  },
  {
   "cell_type": "markdown",
   "metadata": {},
   "source": [
    "### *Variance and Standard Deviation*\n",
    "We've seen how to understand the *spread* of our data distribution using the range, percentiles, and quartiles; and we've seen the effect of outliers on the distribution. Now it's time to look at how to measure the amount of variance in the data."
   ]
  },
  {
   "cell_type": "markdown",
   "metadata": {},
   "source": [
    "#### Variance"
   ]
  },
  {
   "cell_type": "markdown",
   "metadata": {},
   "source": [
    "Variance is measured as the average of the squared difference from the mean. For a full population, it's indicated by a squared Greek letter *sigma* (***&sigma;<sup>2</sup>***) and calculated like this:\n",
    "\n",
    "$$\n",
    "\\begin{equation}\\sigma^{2} = \\frac{\\displaystyle\\sum_{i=1}^{N} (X_{i} -\\mu)^{2}}{N}\\end{equation}\n",
    "$$\n",
    "\n",
    "For a sample, it's indicated as ***s<sup>2</sup>*** calculated like this:\n",
    "\n",
    "$$\n",
    "\\begin{equation}s^{2} = \\frac{\\displaystyle\\sum_{i=1}^{n} (x_{i} -\\bar{x})^{2}}{n-1}\\end{equation}\n",
    "$$\n",
    "\n",
    "In both cases, we sum the difference between the individual data values and the mean and square the result. Then, for a full population we just divide by the number of data items to get the average. When using a sample, we divide by the total number of items **minus 1** to correct for sample bias."
   ]
  },
  {
   "cell_type": "markdown",
   "metadata": {},
   "source": [
    "**Country Data**"
   ]
  },
  {
   "cell_type": "code",
   "execution_count": 199,
   "metadata": {},
   "outputs": [
    {
     "name": "stdout",
     "output_type": "stream",
     "text": [
      "New Cases variance 91317496.64279674\n",
      "New Deaths variance 129498.14369098129\n",
      "New Recovered variance 81942317.0411594\n",
      "New Active Cases variance 23641740.444615353\n"
     ]
    }
   ],
   "source": [
    "numcols = ['New Cases', 'New Deaths', 'New Recovered', 'New Active Cases']\n",
    "for col in numcols:\n",
    "    print(df_country[col].name + ' variance ' + str(df_country[col].var()))"
   ]
  },
  {
   "cell_type": "markdown",
   "metadata": {},
   "source": [
    "**Provinces Data**"
   ]
  },
  {
   "cell_type": "code",
   "execution_count": 200,
   "metadata": {},
   "outputs": [
    {
     "name": "stdout",
     "output_type": "stream",
     "text": [
      "New Cases variance 442764.809110887\n",
      "New Deaths variance 703.514538906594\n",
      "New Recovered variance 495785.7801425631\n",
      "New Active Cases variance 187398.98786106252\n"
     ]
    }
   ],
   "source": [
    "numcols = ['New Cases', 'New Deaths', 'New Recovered', 'New Active Cases']\n",
    "for col in numcols:\n",
    "    print(df_province[col].name + ' variance ' + str(df_province[col].var()))"
   ]
  },
  {
   "cell_type": "markdown",
   "metadata": {},
   "source": [
    "#### Standard Deviation"
   ]
  },
  {
   "cell_type": "markdown",
   "metadata": {},
   "source": [
    "To calculate the variance, we squared the difference of each value from the mean. If we hadn't done this, the numerator of our fraction would always end up being zero (because the mean is at the center of our values). However, this means that the variance is not in the same unit of measurement as our data - in our case, since we're calculating the variance for New Cases, New Deaths, etc., it's in number of cases squared; which is not very helpful.\n",
    "\n",
    "To get the measure of variance back into the same unit of measurement, we need to find its square root:\n",
    "\n",
    "$$\n",
    "\\begin{equation}s = \\sqrt{91317496} \\approx 9556\\end{equation}\n",
    "$$\n",
    "\n",
    "So what does this value represent?\n",
    "\n",
    "It's the *standard deviation* for our grades data. More formally, it's calculated like this for a full population:\n",
    "\n",
    "$$\n",
    "\\begin{equation}\\sigma = \\sqrt{\\frac{\\displaystyle\\sum_{i=1}^{N} (X_{i} -\\mu)^{2}}{N}}\\end{equation}\n",
    "$$\n",
    "\n",
    "Or like this for a sample:\n",
    "\n",
    "$$\n",
    "\\begin{equation}s = \\sqrt{\\frac{\\displaystyle\\sum_{i=1}^{n} (x_{i} -\\bar{x})^{2}}{n-1}}\\end{equation}\n",
    "$$\n",
    "\n",
    "Note that in both cases, it's just the square root of the corresponding variance forumla!"
   ]
  },
  {
   "cell_type": "markdown",
   "metadata": {},
   "source": [
    "**Country Data**"
   ]
  },
  {
   "cell_type": "code",
   "execution_count": 201,
   "metadata": {},
   "outputs": [
    {
     "name": "stdout",
     "output_type": "stream",
     "text": [
      "New Cases standard deviation 9556.018869947711\n",
      "New Deaths standard deviation 359.85850509746365\n",
      "New Recovered standard deviation 9052.199569229537\n",
      "New Active Cases standard deviation 4862.277289975897\n"
     ]
    }
   ],
   "source": [
    "numcols = ['New Cases', 'New Deaths', 'New Recovered', 'New Active Cases']\n",
    "for col in numcols:\n",
    "    print(df_country[col].name + ' standard deviation ' + str(df_country[col].std()))"
   ]
  },
  {
   "cell_type": "markdown",
   "metadata": {},
   "source": [
    "**Provinces Data**"
   ]
  },
  {
   "cell_type": "code",
   "execution_count": 202,
   "metadata": {},
   "outputs": [
    {
     "name": "stdout",
     "output_type": "stream",
     "text": [
      "New Cases standard deviation 665.4057477290731\n",
      "New Deaths standard deviation 26.523848493508517\n",
      "New Recovered standard deviation 704.1205721625829\n",
      "New Active Cases standard deviation 432.8960474075301\n"
     ]
    }
   ],
   "source": [
    "numcols = ['New Cases', 'New Deaths', 'New Recovered', 'New Active Cases']\n",
    "for col in numcols:\n",
    "    print(df_province[col].name + ' standard deviation ' + str(df_province[col].std()))"
   ]
  }
 ],
 "metadata": {
  "interpreter": {
   "hash": "213524bb45a1aeaf737b1d8c77d7b8db5d425938d9dffc5f4bc6fe6dd3324700"
  },
  "kernelspec": {
   "display_name": "Python 3.10.2 64-bit",
   "language": "python",
   "name": "python3"
  },
  "language_info": {
   "codemirror_mode": {
    "name": "ipython",
    "version": 3
   },
   "file_extension": ".py",
   "mimetype": "text/x-python",
   "name": "python",
   "nbconvert_exporter": "python",
   "pygments_lexer": "ipython3",
   "version": "3.10.2"
  },
  "orig_nbformat": 4
 },
 "nbformat": 4,
 "nbformat_minor": 2
}
